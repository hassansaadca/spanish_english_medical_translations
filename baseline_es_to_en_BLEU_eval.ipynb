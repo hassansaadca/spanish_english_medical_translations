{
 "cells": [
  {
   "cell_type": "code",
   "execution_count": 1,
   "id": "da1c38aa-e8f5-40e5-a04b-e1885c5574ed",
   "metadata": {},
   "outputs": [],
   "source": [
    "import sacrebleu"
   ]
  },
  {
   "cell_type": "code",
   "execution_count": 3,
   "id": "b732e230-454e-4286-8e80-b4f10e224c90",
   "metadata": {},
   "outputs": [],
   "source": [
    "#split on \\t. translation = index 1, reference = index 2"
   ]
  },
  {
   "cell_type": "code",
   "execution_count": 281,
   "id": "f843ec68-86eb-46b6-93d8-3d40e5642035",
   "metadata": {},
   "outputs": [
    {
     "name": "stdout",
     "output_type": "stream",
     "text": [
      "108716 es_to_en_baseline_translations.txt\n"
     ]
    }
   ],
   "source": [
    "!wc -l es_to_en_baseline_translations.txt"
   ]
  },
  {
   "cell_type": "code",
   "execution_count": 282,
   "id": "16c42d07-837a-490f-9b42-e4f74e2b7480",
   "metadata": {},
   "outputs": [
    {
     "name": "stdout",
     "output_type": "stream",
     "text": [
      "79091 data/UFAL/medical.test\n"
     ]
    }
   ],
   "source": [
    "!wc -l data/UFAL/medical.test"
   ]
  },
  {
   "cell_type": "code",
   "execution_count": 351,
   "id": "f3e20f46-e53c-4b7c-9b8f-3409aec2ad08",
   "metadata": {},
   "outputs": [
    {
     "name": "stdout",
     "output_type": "stream",
     "text": [
      "Si experimenta estos\tIf you experience these symptoms for\tmedical_corpus\tEMEA\n"
     ]
    }
   ],
   "source": [
    "!cat data/UFAL/medical.test | grep 'If you experience these symptoms for'"
   ]
  },
  {
   "cell_type": "code",
   "execution_count": 347,
   "id": "c2717eed-1805-4944-8848-96a3bd05d590",
   "metadata": {},
   "outputs": [],
   "source": [
    "# with open('data/UFAL/medical.test', 'r') as f:\n",
    "#     lines = f.readlines()\n",
    "# english = [i.split('\\t')[1] for i in lines]"
   ]
  },
  {
   "cell_type": "code",
   "execution_count": 349,
   "id": "dff1e8a4-fdc3-446d-b255-d351e52f691f",
   "metadata": {},
   "outputs": [
    {
     "data": {
      "text/plain": [
       "['If you experience these symptoms for']"
      ]
     },
     "execution_count": 349,
     "metadata": {},
     "output_type": "execute_result"
    }
   ],
   "source": [
    "# [i for i in english if i == 'If you experience these symptoms for'] #baseline translations line 106009"
   ]
  },
  {
   "cell_type": "markdown",
   "id": "50003a42-c264-48ff-8c6a-696defdc16c9",
   "metadata": {},
   "source": [
    "### Calculate BLEU Score"
   ]
  },
  {
   "cell_type": "code",
   "execution_count": 301,
   "id": "b867066c-1ccc-4f83-98e3-6fdf4a7750ee",
   "metadata": {},
   "outputs": [],
   "source": [
    "with open('es_to_en_baseline_translations.txt') as f:\n",
    "    lines = f.readlines()\n",
    "\n",
    "candidates = [i.split('\\t')[1] for i in lines]\n",
    "references = [i.split('\\t')[2].strip() for i in lines]"
   ]
  },
  {
   "cell_type": "code",
   "execution_count": 343,
   "id": "cd68d65a-35c6-484a-a821-4d06f458784b",
   "metadata": {},
   "outputs": [
    {
     "name": "stdout",
     "output_type": "stream",
     "text": [
      "If you experience these\n",
      "---\n",
      "If you experience these symptoms for\n"
     ]
    }
   ],
   "source": [
    "i = 106009\n",
    "\n",
    "print(candidates[i])\n",
    "print('---')\n",
    "print(references[i])"
   ]
  },
  {
   "cell_type": "code",
   "execution_count": 280,
   "id": "ce995fd9-4963-4bc8-b769-8b6830b963d2",
   "metadata": {},
   "outputs": [
    {
     "name": "stdout",
     "output_type": "stream",
     "text": [
      "108716 108716\n"
     ]
    },
    {
     "data": {
      "text/plain": [
       "True"
      ]
     },
     "execution_count": 280,
     "metadata": {},
     "output_type": "execute_result"
    }
   ],
   "source": [
    "print(len(candidates), len(references))\n",
    "len(candidates) == len(references)"
   ]
  },
  {
   "cell_type": "code",
   "execution_count": 264,
   "id": "b36cf6e6-44e6-4c42-afe3-48c82eeca8f3",
   "metadata": {},
   "outputs": [],
   "source": [
    "sets = [i for i in list(zip(candidates, references)) if i[0] != '']\n",
    "candidates = [i[0] for i in sets]\n",
    "references = [i[1] for i in sets]"
   ]
  },
  {
   "cell_type": "code",
   "execution_count": 277,
   "id": "5724f8c0-74b1-4370-b3d9-86a34f10fb78",
   "metadata": {},
   "outputs": [
    {
     "data": {
      "text/plain": [
       "True"
      ]
     },
     "execution_count": 277,
     "metadata": {},
     "output_type": "execute_result"
    }
   ],
   "source": [
    "len(candidates) == len(references)"
   ]
  },
  {
   "cell_type": "code",
   "execution_count": 271,
   "id": "00bc9c02-de15-47a7-aa0f-adab3f1cc6f2",
   "metadata": {},
   "outputs": [
    {
     "data": {
      "text/plain": [
       "(list, list, 108715)"
      ]
     },
     "execution_count": 271,
     "metadata": {},
     "output_type": "execute_result"
    }
   ],
   "source": [
    "i  = 10000\n",
    "\n",
    "test_cands = [candidates[:]]\n",
    "test_refs = references[:]\n",
    "type(test_cands), type(test_refs), len(test_cands[0])"
   ]
  },
  {
   "cell_type": "code",
   "execution_count": 274,
   "id": "f4619f7f-5e09-413d-9457-623a5e2d2274",
   "metadata": {},
   "outputs": [],
   "source": [
    "sac = sacrebleu.corpus_bleu(test_refs, list(test_cands))"
   ]
  },
  {
   "cell_type": "code",
   "execution_count": 275,
   "id": "6efe9be1-c963-4327-8f89-19c4548c07f9",
   "metadata": {},
   "outputs": [
    {
     "data": {
      "text/plain": [
       "52.39416604877844"
      ]
     },
     "execution_count": 275,
     "metadata": {},
     "output_type": "execute_result"
    }
   ],
   "source": [
    "sac.score"
   ]
  }
 ],
 "metadata": {
  "environment": {
   "kernel": "python3",
   "name": "pytorch-gpu.1-11.m94",
   "type": "gcloud",
   "uri": "gcr.io/deeplearning-platform-release/pytorch-gpu.1-11:m94"
  },
  "kernelspec": {
   "display_name": "Python 3",
   "language": "python",
   "name": "python3"
  },
  "language_info": {
   "codemirror_mode": {
    "name": "ipython",
    "version": 3
   },
   "file_extension": ".py",
   "mimetype": "text/x-python",
   "name": "python",
   "nbconvert_exporter": "python",
   "pygments_lexer": "ipython3",
   "version": "3.7.12"
  }
 },
 "nbformat": 4,
 "nbformat_minor": 5
}
