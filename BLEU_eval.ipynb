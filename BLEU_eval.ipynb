{
 "cells": [
  {
   "cell_type": "code",
   "execution_count": 10,
   "id": "da1c38aa-e8f5-40e5-a04b-e1885c5574ed",
   "metadata": {},
   "outputs": [],
   "source": [
    "import sacrebleu"
   ]
  },
  {
   "cell_type": "markdown",
   "id": "50003a42-c264-48ff-8c6a-696defdc16c9",
   "metadata": {},
   "source": [
    "### Calculate BLEU Score"
   ]
  },
  {
   "cell_type": "code",
   "execution_count": 162,
   "id": "873fdfb3-d9a0-44da-897b-3b41ce149110",
   "metadata": {},
   "outputs": [],
   "source": [
    "def agg_bleu(file):\n",
    "    with open(file) as f:\n",
    "            lines = f.readlines()\n",
    "\n",
    "    stripped_lines = list(set([i for i in lines if len(i.strip().split('\\t')) ==3]))\n",
    "    translations = [i.split('\\t')[1] for i in lines]\n",
    "    targets = [i.split('\\t')[2] for i in lines]\n",
    "\n",
    "    sets = [i for i in list(zip(translations, targets)) if i[0] != \"\"]\n",
    "    candidates = [i[0] for i in sets]\n",
    "    references = [i[1] for i in sets]\n",
    "\n",
    "    cand_list = [candidates[:]]\n",
    "    ref_list = references[:]\n",
    "\n",
    "    sac = sacrebleu.corpus_bleu(ref_list, list(cand_list))\n",
    "    \n",
    "    print(f'CORPUS BLEU SCORE: {sac.score}')"
   ]
  },
  {
   "cell_type": "code",
   "execution_count": 163,
   "id": "bba8827d-c45d-4fc0-8df5-67d07bf39aec",
   "metadata": {},
   "outputs": [
    {
     "name": "stdout",
     "output_type": "stream",
     "text": [
      "CORPUS BLEU SCORE: 56.42632952716528\n"
     ]
    }
   ],
   "source": [
    "agg_bleu('es_to_en_finetune_translations.txt')"
   ]
  },
  {
   "cell_type": "code",
   "execution_count": 164,
   "id": "27278e88-2c2c-4753-9bc0-17421e84c648",
   "metadata": {},
   "outputs": [
    {
     "name": "stdout",
     "output_type": "stream",
     "text": [
      "CORPUS BLEU SCORE: 52.39416604877844\n"
     ]
    }
   ],
   "source": [
    "agg_bleu('es_to_en_baseline_translations.txt')"
   ]
  }
 ],
 "metadata": {
  "environment": {
   "kernel": "python3",
   "name": "pytorch-gpu.1-11.m94",
   "type": "gcloud",
   "uri": "gcr.io/deeplearning-platform-release/pytorch-gpu.1-11:m94"
  },
  "kernelspec": {
   "display_name": "Python 3",
   "language": "python",
   "name": "python3"
  },
  "language_info": {
   "codemirror_mode": {
    "name": "ipython",
    "version": 3
   },
   "file_extension": ".py",
   "mimetype": "text/x-python",
   "name": "python",
   "nbconvert_exporter": "python",
   "pygments_lexer": "ipython3",
   "version": "3.7.12"
  }
 },
 "nbformat": 4,
 "nbformat_minor": 5
}
