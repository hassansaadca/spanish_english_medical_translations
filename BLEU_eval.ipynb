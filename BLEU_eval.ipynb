{
 "cells": [
  {
   "cell_type": "code",
   "execution_count": 3,
   "id": "da1c38aa-e8f5-40e5-a04b-e1885c5574ed",
   "metadata": {},
   "outputs": [],
   "source": [
    "import sacrebleu\n",
    "import pandas as pd"
   ]
  },
  {
   "cell_type": "markdown",
   "id": "50003a42-c264-48ff-8c6a-696defdc16c9",
   "metadata": {},
   "source": [
    "### Calculate BLEU Score Across Test Corpus"
   ]
  },
  {
   "cell_type": "code",
   "execution_count": 4,
   "id": "873fdfb3-d9a0-44da-897b-3b41ce149110",
   "metadata": {},
   "outputs": [],
   "source": [
    "def agg_bleu(file):\n",
    "    with open(file) as f:\n",
    "            lines = f.readlines()\n",
    "\n",
    "    stripped_lines = list(set([i for i in lines if len(i.strip().split('\\t')) ==3]))\n",
    "    translations = [i.split('\\t')[1] for i in lines]\n",
    "    targets = [i.split('\\t')[2] for i in lines]\n",
    "\n",
    "    sets = [i for i in list(zip(translations, targets)) if i[0] != \"\"]\n",
    "    candidates = [i[0] for i in sets]\n",
    "    references = [i[1] for i in sets]\n",
    "\n",
    "    cand_list = [candidates[:]]\n",
    "    ref_list = references[:]\n",
    "\n",
    "    sac = sacrebleu.corpus_bleu(ref_list, list(cand_list))\n",
    "    \n",
    "    print(f'CORPUS BLEU SCORE: {sac.score}')\n",
    "    return"
   ]
  },
  {
   "cell_type": "code",
   "execution_count": 5,
   "id": "bba8827d-c45d-4fc0-8df5-67d07bf39aec",
   "metadata": {},
   "outputs": [
    {
     "name": "stdout",
     "output_type": "stream",
     "text": [
      "CORPUS BLEU SCORE: 56.42632952716528\n"
     ]
    }
   ],
   "source": [
    "agg_bleu('translations/es_to_en_finetune_translations.txt')"
   ]
  },
  {
   "cell_type": "code",
   "execution_count": 6,
   "id": "27278e88-2c2c-4753-9bc0-17421e84c648",
   "metadata": {},
   "outputs": [
    {
     "name": "stdout",
     "output_type": "stream",
     "text": [
      "CORPUS BLEU SCORE: 52.39416604877844\n"
     ]
    }
   ],
   "source": [
    "agg_bleu('translations/es_to_en_baseline_translations.txt')"
   ]
  },
  {
   "cell_type": "markdown",
   "id": "fed58489-3055-4138-ba5a-b3043ef6695b",
   "metadata": {
    "tags": []
   },
   "source": [
    "### Calculate BLEU Score for Each Sentence\n",
    "\n",
    "all_translations.txt lines organized into:\n",
    "\n",
    "`target\\tbaseline\\tfinetuned\\google\\interpreter`"
   ]
  },
  {
   "cell_type": "code",
   "execution_count": 7,
   "id": "d67ddec3-74ce-413e-acb3-168ee3b80edf",
   "metadata": {},
   "outputs": [],
   "source": [
    "with open('translations/all_translations.txt','r') as f:\n",
    "    translations = f.readlines()"
   ]
  },
  {
   "cell_type": "code",
   "execution_count": 28,
   "id": "d1fb2384-8c0b-406d-ae26-5e80e8bc206b",
   "metadata": {},
   "outputs": [],
   "source": [
    "sep = [i.strip().split('\\t') for i in translations]"
   ]
  },
  {
   "cell_type": "code",
   "execution_count": 29,
   "id": "ad697616-08f1-41d9-962b-ef33fb2082ca",
   "metadata": {},
   "outputs": [],
   "source": [
    "ex = sep[5]"
   ]
  },
  {
   "cell_type": "code",
   "execution_count": 30,
   "id": "dde42718-b798-4b8c-aa88-d39523d0d308",
   "metadata": {},
   "outputs": [
    {
     "data": {
      "text/plain": [
       "['Talk to your doctor about the possible risks of using this medication for your condition.',\n",
       " 'Ask your doctor about the possible risks of using this medicine to treat your condition.',\n",
       " 'Ask your doctor about the possible risks of using this medication for your condition.',\n",
       " 'Ask your doctor about the possible risks of using this medication to treat your condition.',\n",
       " 'Ask your doctor about possible risks associated with using this medication to treat your condition.']"
      ]
     },
     "execution_count": 30,
     "metadata": {},
     "output_type": "execute_result"
    }
   ],
   "source": [
    "ex"
   ]
  },
  {
   "cell_type": "code",
   "execution_count": 31,
   "id": "34c4ead1-d5d2-4a07-9cdb-c1743cc69f86",
   "metadata": {},
   "outputs": [],
   "source": [
    "sentence_numbers = list(range(1,21))\n",
    "baseline_scores = []\n",
    "finetuned_scores = []\n",
    "google_translate_scores = []\n",
    "interpreter_scores = []\n",
    "\n",
    "for i in range(20):\n",
    "    ex = sep[i]\n",
    "    baseline_scores.append(round(sacrebleu.sentence_bleu(ex[0], [ex[1]]).score, 2))\n",
    "    finetuned_scores.append(round(sacrebleu.sentence_bleu(ex[0], [ex[2]]).score, 2))\n",
    "    google_translate_scores.append(round(sacrebleu.sentence_bleu(ex[0], [ex[3]]).score, 2))\n",
    "    interpreter_scores.append(round(sacrebleu.sentence_bleu(ex[0], [ex[4]]).score, 2))\n",
    "#     for j in range(1,5):\n",
    "        \n",
    "#         print(sacrebleu.sentence_bleu(ex[j], [ex[j]]).score)"
   ]
  },
  {
   "cell_type": "code",
   "execution_count": 32,
   "id": "eedd21db-717c-40c1-8ea7-e9ecf2f289f8",
   "metadata": {},
   "outputs": [
    {
     "data": {
      "text/html": [
       "<div>\n",
       "<style scoped>\n",
       "    .dataframe tbody tr th:only-of-type {\n",
       "        vertical-align: middle;\n",
       "    }\n",
       "\n",
       "    .dataframe tbody tr th {\n",
       "        vertical-align: top;\n",
       "    }\n",
       "\n",
       "    .dataframe thead th {\n",
       "        text-align: right;\n",
       "    }\n",
       "</style>\n",
       "<table border=\"1\" class=\"dataframe\">\n",
       "  <thead>\n",
       "    <tr style=\"text-align: right;\">\n",
       "      <th></th>\n",
       "      <th>sentence id</th>\n",
       "      <th>baseline</th>\n",
       "      <th>finetuned</th>\n",
       "      <th>google</th>\n",
       "      <th>interpreter</th>\n",
       "    </tr>\n",
       "  </thead>\n",
       "  <tbody>\n",
       "    <tr>\n",
       "      <th>0</th>\n",
       "      <td>1</td>\n",
       "      <td>39.33</td>\n",
       "      <td>53.52</td>\n",
       "      <td>41.88</td>\n",
       "      <td>29.94</td>\n",
       "    </tr>\n",
       "    <tr>\n",
       "      <th>1</th>\n",
       "      <td>2</td>\n",
       "      <td>53.73</td>\n",
       "      <td>53.73</td>\n",
       "      <td>53.73</td>\n",
       "      <td>53.73</td>\n",
       "    </tr>\n",
       "    <tr>\n",
       "      <th>2</th>\n",
       "      <td>3</td>\n",
       "      <td>100.00</td>\n",
       "      <td>100.00</td>\n",
       "      <td>100.00</td>\n",
       "      <td>64.35</td>\n",
       "    </tr>\n",
       "    <tr>\n",
       "      <th>3</th>\n",
       "      <td>4</td>\n",
       "      <td>38.30</td>\n",
       "      <td>51.56</td>\n",
       "      <td>61.43</td>\n",
       "      <td>52.26</td>\n",
       "    </tr>\n",
       "    <tr>\n",
       "      <th>4</th>\n",
       "      <td>5</td>\n",
       "      <td>40.13</td>\n",
       "      <td>38.16</td>\n",
       "      <td>48.30</td>\n",
       "      <td>33.97</td>\n",
       "    </tr>\n",
       "    <tr>\n",
       "      <th>5</th>\n",
       "      <td>6</td>\n",
       "      <td>61.48</td>\n",
       "      <td>86.12</td>\n",
       "      <td>68.65</td>\n",
       "      <td>23.18</td>\n",
       "    </tr>\n",
       "    <tr>\n",
       "      <th>6</th>\n",
       "      <td>7</td>\n",
       "      <td>48.89</td>\n",
       "      <td>48.89</td>\n",
       "      <td>42.38</td>\n",
       "      <td>37.68</td>\n",
       "    </tr>\n",
       "    <tr>\n",
       "      <th>7</th>\n",
       "      <td>8</td>\n",
       "      <td>79.11</td>\n",
       "      <td>79.11</td>\n",
       "      <td>79.11</td>\n",
       "      <td>56.59</td>\n",
       "    </tr>\n",
       "    <tr>\n",
       "      <th>8</th>\n",
       "      <td>9</td>\n",
       "      <td>68.90</td>\n",
       "      <td>68.90</td>\n",
       "      <td>75.42</td>\n",
       "      <td>72.98</td>\n",
       "    </tr>\n",
       "    <tr>\n",
       "      <th>9</th>\n",
       "      <td>10</td>\n",
       "      <td>32.90</td>\n",
       "      <td>32.90</td>\n",
       "      <td>32.90</td>\n",
       "      <td>32.90</td>\n",
       "    </tr>\n",
       "    <tr>\n",
       "      <th>10</th>\n",
       "      <td>11</td>\n",
       "      <td>62.34</td>\n",
       "      <td>62.34</td>\n",
       "      <td>56.88</td>\n",
       "      <td>40.24</td>\n",
       "    </tr>\n",
       "    <tr>\n",
       "      <th>11</th>\n",
       "      <td>12</td>\n",
       "      <td>59.33</td>\n",
       "      <td>100.00</td>\n",
       "      <td>70.92</td>\n",
       "      <td>41.03</td>\n",
       "    </tr>\n",
       "    <tr>\n",
       "      <th>12</th>\n",
       "      <td>13</td>\n",
       "      <td>57.75</td>\n",
       "      <td>76.36</td>\n",
       "      <td>73.86</td>\n",
       "      <td>37.82</td>\n",
       "    </tr>\n",
       "    <tr>\n",
       "      <th>13</th>\n",
       "      <td>14</td>\n",
       "      <td>70.86</td>\n",
       "      <td>65.67</td>\n",
       "      <td>88.44</td>\n",
       "      <td>17.05</td>\n",
       "    </tr>\n",
       "    <tr>\n",
       "      <th>14</th>\n",
       "      <td>15</td>\n",
       "      <td>44.81</td>\n",
       "      <td>33.45</td>\n",
       "      <td>27.21</td>\n",
       "      <td>22.61</td>\n",
       "    </tr>\n",
       "    <tr>\n",
       "      <th>15</th>\n",
       "      <td>16</td>\n",
       "      <td>45.79</td>\n",
       "      <td>66.06</td>\n",
       "      <td>41.37</td>\n",
       "      <td>27.88</td>\n",
       "    </tr>\n",
       "    <tr>\n",
       "      <th>16</th>\n",
       "      <td>17</td>\n",
       "      <td>62.07</td>\n",
       "      <td>62.07</td>\n",
       "      <td>53.33</td>\n",
       "      <td>46.97</td>\n",
       "    </tr>\n",
       "    <tr>\n",
       "      <th>17</th>\n",
       "      <td>18</td>\n",
       "      <td>72.17</td>\n",
       "      <td>72.17</td>\n",
       "      <td>64.32</td>\n",
       "      <td>26.61</td>\n",
       "    </tr>\n",
       "    <tr>\n",
       "      <th>18</th>\n",
       "      <td>19</td>\n",
       "      <td>10.89</td>\n",
       "      <td>17.96</td>\n",
       "      <td>2.84</td>\n",
       "      <td>9.24</td>\n",
       "    </tr>\n",
       "    <tr>\n",
       "      <th>19</th>\n",
       "      <td>20</td>\n",
       "      <td>20.66</td>\n",
       "      <td>20.66</td>\n",
       "      <td>24.55</td>\n",
       "      <td>32.67</td>\n",
       "    </tr>\n",
       "  </tbody>\n",
       "</table>\n",
       "</div>"
      ],
      "text/plain": [
       "    sentence id  baseline  finetuned  google  interpreter\n",
       "0             1     39.33      53.52   41.88        29.94\n",
       "1             2     53.73      53.73   53.73        53.73\n",
       "2             3    100.00     100.00  100.00        64.35\n",
       "3             4     38.30      51.56   61.43        52.26\n",
       "4             5     40.13      38.16   48.30        33.97\n",
       "5             6     61.48      86.12   68.65        23.18\n",
       "6             7     48.89      48.89   42.38        37.68\n",
       "7             8     79.11      79.11   79.11        56.59\n",
       "8             9     68.90      68.90   75.42        72.98\n",
       "9            10     32.90      32.90   32.90        32.90\n",
       "10           11     62.34      62.34   56.88        40.24\n",
       "11           12     59.33     100.00   70.92        41.03\n",
       "12           13     57.75      76.36   73.86        37.82\n",
       "13           14     70.86      65.67   88.44        17.05\n",
       "14           15     44.81      33.45   27.21        22.61\n",
       "15           16     45.79      66.06   41.37        27.88\n",
       "16           17     62.07      62.07   53.33        46.97\n",
       "17           18     72.17      72.17   64.32        26.61\n",
       "18           19     10.89      17.96    2.84         9.24\n",
       "19           20     20.66      20.66   24.55        32.67"
      ]
     },
     "execution_count": 32,
     "metadata": {},
     "output_type": "execute_result"
    }
   ],
   "source": [
    "bleu = pd.DataFrame({\n",
    "                'sentence id': sentence_numbers,\n",
    "                'baseline': baseline_scores,\n",
    "                'finetuned':finetuned_scores,\n",
    "                'google': google_translate_scores,\n",
    "                'interpreter':interpreter_scores\n",
    "             \n",
    "             })\n",
    "\n",
    "bleu"
   ]
  },
  {
   "cell_type": "code",
   "execution_count": 33,
   "id": "0c2ca24b-bbba-4835-858a-ab3a1bbf8158",
   "metadata": {},
   "outputs": [
    {
     "data": {
      "text/plain": [
       "sentence id    10.5000\n",
       "baseline       53.4720\n",
       "finetuned      59.4815\n",
       "google         55.3760\n",
       "interpreter    37.9850\n",
       "dtype: float64"
      ]
     },
     "execution_count": 33,
     "metadata": {},
     "output_type": "execute_result"
    }
   ],
   "source": [
    "bleu.mean()"
   ]
  },
  {
   "cell_type": "code",
   "execution_count": null,
   "id": "773b5e4a-2731-4437-bee0-dd74e2c24d44",
   "metadata": {},
   "outputs": [],
   "source": []
  }
 ],
 "metadata": {
  "environment": {
   "kernel": "python3",
   "name": "pytorch-gpu.1-11.m94",
   "type": "gcloud",
   "uri": "gcr.io/deeplearning-platform-release/pytorch-gpu.1-11:m94"
  },
  "kernelspec": {
   "display_name": "Python 3",
   "language": "python",
   "name": "python3"
  },
  "language_info": {
   "codemirror_mode": {
    "name": "ipython",
    "version": 3
   },
   "file_extension": ".py",
   "mimetype": "text/x-python",
   "name": "python",
   "nbconvert_exporter": "python",
   "pygments_lexer": "ipython3",
   "version": "3.7.12"
  }
 },
 "nbformat": 4,
 "nbformat_minor": 5
}
