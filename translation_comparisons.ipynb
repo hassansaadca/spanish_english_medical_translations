{
 "cells": [
  {
   "cell_type": "code",
   "execution_count": 1,
   "id": "5dec25fb-ef16-41da-bcf0-811c8c237c56",
   "metadata": {},
   "outputs": [],
   "source": [
    "# source \\t translation \\t target"
   ]
  },
  {
   "cell_type": "code",
   "execution_count": 1,
   "id": "7d5f6524-16d8-4b2d-8a0e-183a01bc58d3",
   "metadata": {},
   "outputs": [],
   "source": [
    "with open('translations/es_to_en_baseline_translations.txt', 'r') as f:\n",
    "    lines = f.readlines()"
   ]
  },
  {
   "cell_type": "code",
   "execution_count": 3,
   "id": "83e0b0eb-e450-4cef-b946-3a3faea6aaf3",
   "metadata": {},
   "outputs": [],
   "source": [
    "def get(index):\n",
    "    line = lines[index].split('\\t')\n",
    "    # print(f'Source:\\n {line[0]}')\n",
    "    # print(f'Trans: \\n {line[1]}')\n",
    "    # print(f'Target: \\n {line[2]}')\n",
    "    return(line[0])"
   ]
  },
  {
   "cell_type": "code",
   "execution_count": 4,
   "id": "c2340042-16a9-4a86-b738-b192852cd12c",
   "metadata": {},
   "outputs": [],
   "source": [
    "l = [21, 24, 31, 32, 34, 37, 39, 41, 49, 51, 63, 74, 76, 86, 95, 101, 114, 122, 125, 2001]"
   ]
  },
  {
   "cell_type": "code",
   "execution_count": 12,
   "id": "1c699fd5-644a-4caf-8d34-2c6697ee7c93",
   "metadata": {},
   "outputs": [],
   "source": [
    "with open('translations/es_to_en_baseline_translations.txt', 'r') as f:\n",
    "    baselines = f.readlines()\n",
    "    \n",
    "with open('translations/es_to_en_finetune_translations.txt', 'r') as f:\n",
    "    finelines = f.readlines()\n",
    "    \n",
    "with open('translations/interpreter_translations.txt', 'r') as f:\n",
    "    reallines = f.readlines()\n",
    "\n",
    "with open('translations/google_translations.txt', 'r') as f:\n",
    "    googlelines = f.readlines()"
   ]
  },
  {
   "cell_type": "code",
   "execution_count": 13,
   "id": "b88d6602-aa11-44a0-9469-1920d9008a53",
   "metadata": {},
   "outputs": [],
   "source": [
    "def comparison(index, baselines = baselines, finelines = finelines):\n",
    "    string = get(index)\n",
    "    baseline_match = [i for i in baselines if string in i.split('\\t')[0]][0]\n",
    "    fineline_match = [i for i in finelines if string in i.split('\\t')[0]][0]\n",
    "    \n",
    "    baseline_translation = baseline_match.split('\\t')[1]\n",
    "    fineline_translation = fineline_match.split('\\t')[1]\n",
    "    source = fineline_match.split('\\t')[0]\n",
    "    target = fineline_match.split('\\t')[2]\n",
    "    \n",
    "    return [source.strip(), target.strip(), baseline_translation.strip(), fineline_translation.strip()]\n"
   ]
  },
  {
   "cell_type": "code",
   "execution_count": 14,
   "id": "9d51f764-1d17-4628-a048-a240416efdd2",
   "metadata": {},
   "outputs": [],
   "source": [
    "comp = []\n",
    "for i in l:\n",
    "    comp.append(comparison(index = i))"
   ]
  },
  {
   "cell_type": "code",
   "execution_count": 15,
   "id": "f8a5fba0-39d3-4e08-affe-f8708acb4484",
   "metadata": {},
   "outputs": [],
   "source": [
    "for i in range(20):\n",
    "    comp[i].append(googlelines[i].strip())\n",
    "    comp[i].append(reallines[i].strip())\n",
    "\n",
    "#target, baseline, finetuned, interpreter, google"
   ]
  },
  {
   "cell_type": "code",
   "execution_count": 16,
   "id": "037c9035-c395-405a-91b5-a59d61047112",
   "metadata": {},
   "outputs": [],
   "source": [
    "# for i in comp:\n",
    "#     print(f'{i[0]}\\n{i[1]}\\n{i[2]}\\n{i[3]}\\n{i[4]}\\n---')"
   ]
  },
  {
   "cell_type": "code",
   "execution_count": 17,
   "id": "3cf33dd7-f7b1-448f-aecb-b3c483f4e38b",
   "metadata": {},
   "outputs": [],
   "source": [
    "for i in comp:\n",
    "    with open('all_translations.txt', 'a') as f:\n",
    "        f.write(f'{i[1]}\\t{i[2]}\\t{i[3]}\\t{i[4]}\\t{i[5]}\\n')"
   ]
  },
  {
   "cell_type": "code",
   "execution_count": 18,
   "id": "cf505b34-1feb-44a6-a045-45f3938b25a1",
   "metadata": {},
   "outputs": [],
   "source": [
    "# j = 1\n",
    "# for i in comp:\n",
    "#     print(f'\\nExample Number: {j}\\n----------------------')\n",
    "#     print(f'Source:\\n{i[0]}\\n\\n')\n",
    "#     print(f'Target:\\n{i[1]}\\n\\n')\n",
    "#     print(f'Baseline Model:\\n{i[2]}\\n\\n')\n",
    "#     print(f'Fine-tuned Model:\\n{i[3]}\\n\\n')\n",
    "#     print(f'Google Translate:\\n{i[4]}\\n\\n')\n",
    "#     print(f'Interpreter:\\n{i[5]}\\n')\n",
    "#     print('====================================')\n",
    "#     j+=1"
   ]
  },
  {
   "cell_type": "code",
   "execution_count": 19,
   "id": "ad982961-b773-4e41-93aa-6a9ab7ab35f1",
   "metadata": {},
   "outputs": [
    {
     "data": {
      "text/plain": [
       "['Reacciones adversas graves notificadas en los ensayos clínicos',\n",
       " 'Serious adverse events reported in clinical trials',\n",
       " 'Serious adverse reactions reported in clinical trials',\n",
       " 'Serious adverse reactions reported in clinical trials',\n",
       " 'Serious adverse reactions reported in clinical trials.',\n",
       " 'Severe adverse reactions reported in clinical trials.']"
      ]
     },
     "execution_count": 19,
     "metadata": {},
     "output_type": "execute_result"
    }
   ],
   "source": [
    "comp[6]"
   ]
  },
  {
   "cell_type": "code",
   "execution_count": null,
   "id": "56621785-5ecc-4814-932a-955a08800cd2",
   "metadata": {},
   "outputs": [],
   "source": []
  },
  {
   "cell_type": "code",
   "execution_count": null,
   "id": "b01cb79d-f014-4ec9-b69a-75c2df7ada31",
   "metadata": {},
   "outputs": [],
   "source": []
  }
 ],
 "metadata": {
  "environment": {
   "kernel": "python3",
   "name": "pytorch-gpu.1-11.m94",
   "type": "gcloud",
   "uri": "gcr.io/deeplearning-platform-release/pytorch-gpu.1-11:m94"
  },
  "kernelspec": {
   "display_name": "Python 3",
   "language": "python",
   "name": "python3"
  },
  "language_info": {
   "codemirror_mode": {
    "name": "ipython",
    "version": 3
   },
   "file_extension": ".py",
   "mimetype": "text/x-python",
   "name": "python",
   "nbconvert_exporter": "python",
   "pygments_lexer": "ipython3",
   "version": "3.7.12"
  }
 },
 "nbformat": 4,
 "nbformat_minor": 5
}
