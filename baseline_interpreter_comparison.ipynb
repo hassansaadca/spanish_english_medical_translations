{
 "cells": [
  {
   "cell_type": "code",
   "execution_count": null,
   "id": "5dec25fb-ef16-41da-bcf0-811c8c237c56",
   "metadata": {},
   "outputs": [],
   "source": [
    "# source \\t translation \\t target"
   ]
  },
  {
   "cell_type": "code",
   "execution_count": 1,
   "id": "7d5f6524-16d8-4b2d-8a0e-183a01bc58d3",
   "metadata": {},
   "outputs": [],
   "source": [
    "with open('es_to_en_baseline_translations.txt', 'r') as f:\n",
    "    lines = f.readlines()"
   ]
  },
  {
   "cell_type": "code",
   "execution_count": 5,
   "id": "83e0b0eb-e450-4cef-b946-3a3faea6aaf3",
   "metadata": {},
   "outputs": [],
   "source": [
    "def get(index):\n",
    "    line = lines[index].split('\\t')\n",
    "    print(f'Source:\\n {line[0]}')\n",
    "    print(f'Trans: \\n {line[1]}')\n",
    "    print(f'Target: \\n {line[2]}')"
   ]
  },
  {
   "cell_type": "code",
   "execution_count": 169,
   "id": "4069756c-9dcf-4bc9-8753-c260b2bccbd4",
   "metadata": {},
   "outputs": [
    {
     "name": "stdout",
     "output_type": "stream",
     "text": [
      "Source:\n",
      " Los principales criterios de eficacia fueron el número de pacientes con cáncer que respondieron al tratamiento, el tiempo transcurrido hasta la progresión de la enfermedad, el tiempo transcurrido sin enfermedad o el tiempo de supervivencia.\n",
      "Trans: \n",
      " The main efficacy criteria were the number of cancer patients who responded to treatment, the time to disease progression, the time spent without disease, or the time of survival.\n",
      "Target: \n",
      " The main measures of effectiveness were the number of patients whose cancer responded to treatment, how long it took for the disease to progress, how long the patients remained disease-free or how long they survived.\n",
      "\n"
     ]
    }
   ],
   "source": [
    "get(4)"
   ]
  },
  {
   "cell_type": "code",
   "execution_count": 192,
   "id": "c2340042-16a9-4a86-b738-b192852cd12c",
   "metadata": {},
   "outputs": [],
   "source": [
    "l = [4, 21, 24, 31, 32, 34, 37, 39, 41, 49, 51, 63, 74, 76, 86, 95, 101, 114, 122, 125, 2001]"
   ]
  },
  {
   "cell_type": "code",
   "execution_count": 193,
   "id": "76c47787-de63-4d81-a3b1-8db6d81e86d2",
   "metadata": {},
   "outputs": [
    {
     "name": "stdout",
     "output_type": "stream",
     "text": [
      "Source:\n",
      " Ni los pacientes ni los médicos sabían qué medicamento tomaba cada paciente.\n",
      "Trans: \n",
      " Neither the patients nor the doctors knew what medicine each patient was taking.\n",
      "Target: \n",
      " Neither the patient nor the doctor knew which medicine the patient was receiving.\n",
      "\n"
     ]
    }
   ],
   "source": [
    "get(125)"
   ]
  },
  {
   "cell_type": "code",
   "execution_count": 194,
   "id": "69e83f5d-704f-42b5-aac6-3b7df0566230",
   "metadata": {},
   "outputs": [
    {
     "name": "stdout",
     "output_type": "stream",
     "text": [
      "1:\n",
      "Los principales criterios de eficacia fueron el número de pacientes con cáncer que respondieron al tratamiento, el tiempo transcurrido hasta la progresión de la enfermedad, el tiempo transcurrido sin enfermedad o el tiempo de supervivencia.\n",
      "\n",
      "\n",
      "2:\n",
      "NO retire ninguno de los protectores de cierre de la aguja y NO presione el botón dosificador hasta que esté preparado para autoinyectarse la dosis de PegIntron.\n",
      "\n",
      "\n",
      "3:\n",
      "Neuropatía periférica (o parestesia)\n",
      "\n",
      "\n",
      "4:\n",
      "¿Cuáles son las precauciones especiales que debo seguir?\n",
      "\n",
      "\n",
      "5:\n",
      "Los niños con fibrosis quística a quienes se les diagnostique la enfermedad temprano en la vida y comiencen tratamiento a temprana edad pueden tener mejor nutrición, crecimiento y funcionamiento de los pulmones.\n",
      "\n",
      "\n",
      "6:\n",
      "Los tumores neuroblásticos que contienen muchas células diferenciadas, llamados ganglioneuroblastomas, pueden tener una diferenciación difusa que confiere un pronóstico muy favorable o que contienen nódulos de células no diferenciadas cuya histología, junto con la amplificación de MYCN determina el pronóstico.[70,71]\n",
      "\n",
      "\n",
      "7:\n",
      "Pregunte a su médico acerca de los posibles riesgos de usar este medicamento para tratar su condición.\n",
      "\n",
      "\n",
      "8:\n",
      "Reacciones adversas graves notificadas en los ensayos clínicos\n",
      "\n",
      "\n",
      "9:\n",
      "Las mujeres con cambios precancerosos causados por infección con el VPH pueden necesitar tratamiento adicional.\n",
      "\n",
      "\n",
      "10:\n",
      "Debe tenerse cuidado en la manipulación de Temodal 2,5 mg/ ml polvo para solución para perfusión.\n",
      "\n",
      "\n",
      "11:\n",
      "El nivel más alto de potasio en la orina puede deberse a:\n",
      "\n",
      "\n",
      "12:\n",
      "Si observa que las zonas afectadas de la piel empeoran, comuníqueselo inmediatamente al médico, especialmente si también experimenta signos generales de infección como fiebre o cansancio.\n",
      "\n",
      "\n",
      "13:\n",
      "Si interrumpe el tratamiento con CYMBALTA No deje de tomar sus cápsulas sin el consejo de su médico aunque se encuentre mejor.\n",
      "\n",
      "\n",
      "14:\n",
      "Se debe controlar estrechamente a aquellos pacientes con enfermedades cardíacas tales como angina, insuficiencia cardíaca congestiva o arritmia por el empeoramiento de su situación clínica durante el tratamiento con AVONEX.\n",
      "\n",
      "\n",
      "15:\n",
      "Está bien reducir la cantidad de líquido que su hijo toma unas horas antes de acostarse.\n",
      "\n",
      "\n",
      "16:\n",
      "La posología recomendada de 200- 400 mg dos veces al día se ajusta a la práctica médica actual y está respaldada por la literatura publicada presentada desde mediados del decenio de 1990 hasta la fecha.\n",
      "\n",
      "\n",
      "17:\n",
      "En caso necesario, se puede administrar una segunda dosis de meloxicam después de 24 horas.\n",
      "\n",
      "\n",
      "18:\n",
      "Reacciones anafilácticas e hipersensibilidad Se han notificado reacciones anafilácticas y de hipersensibilidad de otro tipo en menos del 1% de los pacientes después de la administración de proteínas por vía intravenosa.\n",
      "\n",
      "\n",
      "19:\n",
      "La primera perfusión debe durar 90 minutos pero las siguientes perfusiones pueden administrarse durante un periodo inferior si la primera perfusión se ha tolerado bien.\n",
      "\n",
      "\n",
      "20:\n",
      "Ni los pacientes ni los médicos sabían qué medicamento tomaba cada paciente.\n",
      "\n",
      "\n",
      "21:\n",
      "Si conserva OptiSet en un lugar fresco, se debe sacar de 1 a 2 horas antes de la inyección para alcanzar temperatura ambiente.\n",
      "\n",
      "\n"
     ]
    }
   ],
   "source": [
    "for i in range(len(l)):\n",
    "    print(f'{i+1}:')\n",
    "    printouts(l[i])\n",
    "    print('\\n')\n",
    "    n+=1"
   ]
  },
  {
   "cell_type": "code",
   "execution_count": null,
   "id": "1c699fd5-644a-4caf-8d34-2c6697ee7c93",
   "metadata": {},
   "outputs": [],
   "source": []
  }
 ],
 "metadata": {
  "environment": {
   "kernel": "python3",
   "name": "pytorch-gpu.1-11.m94",
   "type": "gcloud",
   "uri": "gcr.io/deeplearning-platform-release/pytorch-gpu.1-11:m94"
  },
  "kernelspec": {
   "display_name": "Python 3",
   "language": "python",
   "name": "python3"
  },
  "language_info": {
   "codemirror_mode": {
    "name": "ipython",
    "version": 3
   },
   "file_extension": ".py",
   "mimetype": "text/x-python",
   "name": "python",
   "nbconvert_exporter": "python",
   "pygments_lexer": "ipython3",
   "version": "3.7.12"
  }
 },
 "nbformat": 4,
 "nbformat_minor": 5
}
