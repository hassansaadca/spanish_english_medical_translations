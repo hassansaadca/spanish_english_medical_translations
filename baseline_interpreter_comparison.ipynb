{
 "cells": [
  {
   "cell_type": "code",
   "execution_count": null,
   "id": "5dec25fb-ef16-41da-bcf0-811c8c237c56",
   "metadata": {},
   "outputs": [],
   "source": [
    "# source \\t translation \\t target"
   ]
  },
  {
   "cell_type": "code",
   "execution_count": 17,
   "id": "7d5f6524-16d8-4b2d-8a0e-183a01bc58d3",
   "metadata": {},
   "outputs": [],
   "source": [
    "with open('es_to_en_baseline_translations.txt', 'r') as f:\n",
    "    lines = f.readlines()"
   ]
  },
  {
   "cell_type": "code",
   "execution_count": 36,
   "id": "83e0b0eb-e450-4cef-b946-3a3faea6aaf3",
   "metadata": {},
   "outputs": [],
   "source": [
    "def get(index):\n",
    "    line = lines[index].split('\\t')\n",
    "    # print(f'Source:\\n {line[0]}')\n",
    "    # print(f'Trans: \\n {line[1]}')\n",
    "    # print(f'Target: \\n {line[2]}')\n",
    "    return(line[0])"
   ]
  },
  {
   "cell_type": "code",
   "execution_count": 80,
   "id": "03755b2b-5df8-4c1f-8cce-b6b4695f4cf1",
   "metadata": {},
   "outputs": [
    {
     "data": {
      "text/plain": [
       "'Los principales criterios de eficacia fueron el número de pacientes con cáncer que respondieron al tratamiento, el tiempo transcurrido hasta la progresión de la enfermedad, el tiempo transcurrido sin enfermedad o el tiempo de supervivencia.'"
      ]
     },
     "execution_count": 80,
     "metadata": {},
     "output_type": "execute_result"
    }
   ],
   "source": [
    "get(4)"
   ]
  },
  {
   "cell_type": "code",
   "execution_count": 81,
   "id": "c2340042-16a9-4a86-b738-b192852cd12c",
   "metadata": {},
   "outputs": [],
   "source": [
    "l = [21, 24, 31, 32, 34, 37, 39, 41, 49, 51, 63, 74, 76, 86, 95, 101, 114, 122, 125, 2001]"
   ]
  },
  {
   "cell_type": "code",
   "execution_count": 82,
   "id": "b23a8a5b-f356-4c41-befb-150beb330529",
   "metadata": {},
   "outputs": [
    {
     "data": {
      "text/plain": [
       "20"
      ]
     },
     "execution_count": 82,
     "metadata": {},
     "output_type": "execute_result"
    }
   ],
   "source": [
    "len(l)"
   ]
  },
  {
   "cell_type": "code",
   "execution_count": 83,
   "id": "1c699fd5-644a-4caf-8d34-2c6697ee7c93",
   "metadata": {},
   "outputs": [],
   "source": [
    "with open('es_to_en_baseline_translations.txt', 'r') as f:\n",
    "    baselines = f.readlines()\n",
    "    \n",
    "with open('es_to_en_finetune_translations.txt', 'r') as f:\n",
    "    finelines = f.readlines()"
   ]
  },
  {
   "cell_type": "code",
   "execution_count": 89,
   "id": "f6b53f2c-a846-45c7-b78d-4efd7bb1eee0",
   "metadata": {},
   "outputs": [],
   "source": [
    "def get_comparison(string, baselines = baselines, finelines = finelines):\n",
    "    baseline_match = [i for i in baselines if string in i.split('\\t')[0]][0]\n",
    "    fineline_match = [i for i in finelines if string in i.split('\\t')[0]][0]\n",
    "    \n",
    "    baseline_translation = baseline_match.split('\\t')[1]\n",
    "    fineline_translation = fineline_match.split('\\t')[1]\n",
    "    target = fineline_match.split('\\t')[2]\n",
    "    \n",
    "    print(f'Source:\\n{string}\\n---')\n",
    "    print(f'Base Translation:\\n{baseline_translation}\\n---')\n",
    "    print(f'Fine Translation:\\n{fineline_translation}\\n---')\n",
    "    print(f'Target:\\n{target}\\n')"
   ]
  },
  {
   "cell_type": "code",
   "execution_count": 90,
   "id": "2d46b38c-7375-4f89-8797-812413d55123",
   "metadata": {},
   "outputs": [
    {
     "name": "stdout",
     "output_type": "stream",
     "text": [
      "Source:\n",
      "NO retire ninguno de los protectores de cierre de la aguja y NO presione el botón dosificador hasta que esté preparado para autoinyectarse la dosis de PegIntron.\n",
      "---\n",
      "Base Translation:\n",
      "DO NOT remove any needle closure caps and DO NOT press the dosing button until you are ready to self-inject the PegIntron dose.\n",
      "---\n",
      "Fine Translation:\n",
      "Do NOT remove any needle caps and DO NOT push the dosing button until you are ready to self-inject the PegIntron dose.\n",
      "---\n",
      "Target:\n",
      "DO NOT remove either of the needle caps and DO NOT push the dosing button in until you are ready to self -inject the PegIntron dose.\n",
      "\n",
      "\n"
     ]
    }
   ],
   "source": [
    "string = get(21)\n",
    "\n",
    "get_comparison(string)"
   ]
  },
  {
   "cell_type": "code",
   "execution_count": null,
   "id": "c781a8a2-a116-4ca0-bd8f-edd57e52845c",
   "metadata": {},
   "outputs": [],
   "source": []
  },
  {
   "cell_type": "code",
   "execution_count": null,
   "id": "2dda54af-8609-49cd-bf98-aa842003f252",
   "metadata": {},
   "outputs": [],
   "source": []
  }
 ],
 "metadata": {
  "environment": {
   "kernel": "python3",
   "name": "pytorch-gpu.1-11.m94",
   "type": "gcloud",
   "uri": "gcr.io/deeplearning-platform-release/pytorch-gpu.1-11:m94"
  },
  "kernelspec": {
   "display_name": "Python 3",
   "language": "python",
   "name": "python3"
  },
  "language_info": {
   "codemirror_mode": {
    "name": "ipython",
    "version": 3
   },
   "file_extension": ".py",
   "mimetype": "text/x-python",
   "name": "python",
   "nbconvert_exporter": "python",
   "pygments_lexer": "ipython3",
   "version": "3.7.12"
  }
 },
 "nbformat": 4,
 "nbformat_minor": 5
}
